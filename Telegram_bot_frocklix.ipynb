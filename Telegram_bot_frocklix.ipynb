{
  "nbformat": 4,
  "nbformat_minor": 0,
  "metadata": {
    "colab": {
      "provenance": [],
      "include_colab_link": true
    },
    "kernelspec": {
      "name": "python3",
      "display_name": "Python 3"
    },
    "language_info": {
      "name": "python"
    }
  },
  "cells": [
    {
      "cell_type": "markdown",
      "metadata": {
        "id": "view-in-github",
        "colab_type": "text"
      },
      "source": [
        "<a href=\"https://colab.research.google.com/github/User121416/GameCude2/blob/main/Telegram_bot_frocklix.ipynb\" target=\"_parent\"><img src=\"https://colab.research.google.com/assets/colab-badge.svg\" alt=\"Open In Colab\"/></a>"
      ]
    },
    {
      "cell_type": "code",
      "execution_count": 4,
      "metadata": {
        "colab": {
          "base_uri": "https://localhost:8080/",
          "height": 131
        },
        "id": "n6QW-vAyptb7",
        "outputId": "f1f68ff8-12c8-40d2-bff2-1eef5f96ddd8"
      },
      "outputs": [
        {
          "output_type": "error",
          "ename": "SyntaxError",
          "evalue": "ignored",
          "traceback": [
            "\u001b[0;36m  File \u001b[0;32m\"<ipython-input-4-b2ddf7e27982>\"\u001b[0;36m, line \u001b[0;32m69\u001b[0m\n\u001b[0;31m    №\u001b[0m\n\u001b[0m    ^\u001b[0m\n\u001b[0;31mSyntaxError\u001b[0m\u001b[0;31m:\u001b[0m invalid character in identifier\n"
          ]
        }
      ],
      "source": [
        "!pip install python-telegram-bot  # Сразу скачивает и устанавливает библиоnеку python\n",
        "import time # для получения текущего времени\n",
        "import logging  # Логирование на будущее\n",
        "from telegram.ext import Updater, CommandHandler, MessageHandler, Filters # Подключаем библиотеку python-telegram-bot\n",
        "from google.colab import drive  # Подключает твой гугл диск\n",
        "\n",
        "\n",
        "drive.mount('/content/gdrive')  #Здесь ты можешь подрубить файлы из гугл диска, то есть записывать ил обновлять какую-либо инфу\n",
        "#!ls \"/gdrive/My Drive/folder\"\n",
        "\n",
        "\n",
        "# Включить ведение журнала\n",
        "logging.basicConfig(format='%(asctime)s - %(name)s - %(levelname)s - %(message)s',\n",
        "                    level=logging.INFO)\n",
        "\n",
        "logger = logging.getLogger(__name__)\n",
        "\n",
        "\n",
        "# Определите несколько обработчиков команд. Обычно они принимают два аргумента update и\n",
        "# контекст. Обработчики ошибок также получают поднятый объект TelegramError при ошибке.\n",
        "def start(update, context):\n",
        "    \"\"\"Отправка сообщения при выполнении команды /start.\"\"\"\n",
        "    update.message.reply_text('Hi!')\n",
        "\n",
        "\n",
        "def help(update, context):\n",
        "    \"\"\"Отправка сообщения при выполнении команды /help.\"\"\"\n",
        "    update.message.reply_text('Help!')\n",
        "\n",
        "\n",
        "def just_print(update, context):\n",
        "    \"\"\"Выводит сообщение пользователя.\"\"\"\n",
        "    update.message.reply_text(update.message.text)\n",
        "\n",
        "\n",
        "def weather ():\n",
        "    \"\"\"Выводит погоду\"\"\"\n",
        "    \n",
        "\n",
        "\n",
        "def get_time(update, context):\n",
        "    \"\"\"Выводит текущее время\"\"\"\n",
        "    update.message.reply_text('now is ' + time.strftime(\"%H:%M:%S\"))\n",
        "\n",
        "\n",
        "def alex_func_exapmle(update, context):\n",
        "    \"\"\"Выводит сообщение дяди Андрея.\"\"\"\n",
        "    update.message.reply_text(update.message.text)\n",
        "\n",
        "\n",
        "def error(update, context):\n",
        "    \"\"\"Журнал ошибок, вызванных обновлениями.\"\"\"\n",
        "    logger.warning('Update \"%s\" caused error \"%s\"', update, context.error)\n",
        "\n",
        "\n",
        "def main():\n",
        "    \"\"\"Start the bot.\"\"\"\n",
        "    # Создайте Updater и передайте ему токен вашего бота.\n",
        "    # Обязательно установите use_context=True, чтобы использовать новые обратные вызовы на основе контекста.\n",
        "    # После версии 12 в этом больше не будет необходимости\n",
        "    updater = Updater(\"5446632022:AAG_Sce0_w83LJSuEJ8dsgh4qJ5KExzedRo\", use_context=True)\n",
        "\n",
        "    # Получить диспетчер для регистрации обработчиков\n",
        "    dp = updater.dispatcher\n",
        "\n",
        "    # по разным командам - ответ в Telegram\n",
        "    dp.add_handler(CommandHandler(\"start\", start))\n",
        "    dp.add_handler(CommandHandler(\"help\", help))\n",
        "    dp.add_handler(CommandHandler(\"time\", get_time))  # /time - это команда, коnорую ты пишешь в чате, и на которую запускается функция get_time\n",
        "    dp.add_handler(CommandHandler(\"alex\", alex_func_exapmle)) # /alex - это команда, коnорую ты пишешь в чате, и на которую запускается функция alex_func_exapmle\n",
        "\n",
        "    # .add_handler - метод отслеживает события объекта dp (Экземпляр класса Updater)\n",
        "    # MessageHandler - этот класс предназначен для обработки всех сообщений\n",
        "    №\n",
        "    dp.add_handler(MessageHandler(Filters.text, just_print))\n",
        "\n",
        "    # регистрировать все ошибки\n",
        "    dp.add_error_handler(error)\n",
        "\n",
        "    # Запуск бота\n",
        "    updater.start_polling()\n",
        "\n",
        "    # Запускайте бота, пока вы не нажмете Ctrl-C или процесс не получит SIGINT,\n",
        "    # SIGTERM или SIGABRT. Это следует использовать большую часть времени, т.к.\n",
        "    # start_polling() является неблокирующим и остановит бота изящно.\n",
        "    updater.idle()\n",
        "\n",
        "\n",
        "if __name__ == '__main__':  # Начало выполнения скрипта\n",
        "    main()  # Вызов главной функции"
      ]
    },
    {
      "cell_type": "code",
      "source": [],
      "metadata": {
        "id": "UDWBLIOMnbWB"
      },
      "execution_count": null,
      "outputs": []
    }
  ]
}